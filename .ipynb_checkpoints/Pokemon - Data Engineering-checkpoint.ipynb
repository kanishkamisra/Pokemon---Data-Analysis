{
 "cells": [
  {
   "cell_type": "markdown",
   "metadata": {},
   "source": [
    "# Scraping and Populating Data Frame"
   ]
  },
  {
   "cell_type": "code",
   "execution_count": 3,
   "metadata": {
    "collapsed": true
   },
   "outputs": [],
   "source": [
    "import requests\n",
    "from bs4 import BeautifulSoup\n",
    "import numpy as np\n",
    "import pandas as pd\n",
    "import matplotlib.pyplot as plt\n",
    "from matplotlib import colors\n",
    "from IPython.core.display import HTML"
   ]
  },
  {
   "cell_type": "code",
   "execution_count": 6,
   "metadata": {
    "collapsed": false
   },
   "outputs": [],
   "source": [
    "url = 'http://pokemondb.net/pokedex/all'\n",
    "req = requests.get(url)\n",
    "page = req.text\n",
    "soup = BeautifulSoup(page, 'html.parser')"
   ]
  },
  {
   "cell_type": "code",
   "execution_count": 7,
   "metadata": {
    "collapsed": false
   },
   "outputs": [
    {
     "ename": "AttributeError",
     "evalue": "'HTML' object has no attribute 'head'",
     "output_type": "error",
     "traceback": [
      "\u001b[1;31m---------------------------------------------------------------------------\u001b[0m",
      "\u001b[1;31mAttributeError\u001b[0m                            Traceback (most recent call last)",
      "\u001b[1;32m<ipython-input-7-82df17f1638d>\u001b[0m in \u001b[0;36m<module>\u001b[1;34m()\u001b[0m\n\u001b[1;32m----> 1\u001b[1;33m \u001b[0mHTML\u001b[0m\u001b[1;33m(\u001b[0m\u001b[0mstr\u001b[0m\u001b[1;33m(\u001b[0m\u001b[0msoup\u001b[0m\u001b[1;33m.\u001b[0m\u001b[0mtable\u001b[0m\u001b[1;33m)\u001b[0m\u001b[1;33m)\u001b[0m\u001b[1;33m.\u001b[0m\u001b[0mhead\u001b[0m\u001b[1;33m(\u001b[0m\u001b[1;33m)\u001b[0m\u001b[1;33m\u001b[0m\u001b[0m\n\u001b[0m",
      "\u001b[1;31mAttributeError\u001b[0m: 'HTML' object has no attribute 'head'"
     ]
    }
   ],
   "source": [
    "# HTML(str(soup.table))"
   ]
  },
  {
   "cell_type": "code",
   "execution_count": 9,
   "metadata": {
    "collapsed": false
   },
   "outputs": [
    {
     "data": {
      "text/plain": [
       "<tr>\\n<td class=\"num cell-icon-string\" data-sort-value=\"721\"><i class=\"pki\" data-sprite=\"pkiAll n721\"></i> 721</td> <td class=\"cell-icon-string\"><a class=\"ent-name\" href=\"/pokedex/volcanion\" title=\"View pokedex for #721 Volcanion\">Volcanion</a></td><td class=\"cell-icon\"><a class=\"type-icon type-fire\" href=\"/type/fire\">Fire</a><br><a class=\"type-icon type-water\" href=\"/type/water\">Water</a></br></td>\\n<td class=\"num-total\">600</td>\\n<td class=\"num\">80</td>\\n<td class=\"num\">110</td>\\n<td class=\"num\">120</td>\\n<td class=\"num\">130</td>\\n<td class=\"num\">90</td>\\n<td class=\"num\">70</td>\\n</tr>"
      ]
     },
     "execution_count": 9,
     "metadata": {},
     "output_type": "execute_result"
    }
   ],
   "source": [
    "rows = [row for row in soup.find('table').find_all('tr')]\n",
    "rows[800]"
   ]
  },
  {
   "cell_type": "code",
   "execution_count": 10,
   "metadata": {
    "collapsed": false
   },
   "outputs": [
    {
     "data": {
      "text/plain": [
       "[u'#',\n",
       " u'Name',\n",
       " u'Type',\n",
       " u'Total',\n",
       " u'HP',\n",
       " u'Attack',\n",
       " u'Defense',\n",
       " u'Sp. Atk',\n",
       " u'Sp. Def',\n",
       " u'Speed']"
      ]
     },
     "execution_count": 10,
     "metadata": {},
     "output_type": "execute_result"
    }
   ],
   "source": [
    "columns = [col.get_text() for col in rows[0].find_all('th') if col.get_text() != '']\n",
    "columns"
   ]
  },
  {
   "cell_type": "code",
   "execution_count": 11,
   "metadata": {
    "collapsed": false
   },
   "outputs": [],
   "source": [
    "indexes = [i for i in range(0, len(rows)-1)]\n",
    "# indexes"
   ]
  },
  {
   "cell_type": "code",
   "execution_count": 12,
   "metadata": {
    "collapsed": false
   },
   "outputs": [],
   "source": [
    "values = [value.get_text() for row in rows[1:] for value in row.find_all('td')] \n",
    "# values"
   ]
  },
  {
   "cell_type": "code",
   "execution_count": 14,
   "metadata": {
    "collapsed": false
   },
   "outputs": [],
   "source": [
    "stacked_values = zip(*[values[i::10] for i in range(len(columns))])\n",
    "# stacked_values"
   ]
  },
  {
   "cell_type": "code",
   "execution_count": 15,
   "metadata": {
    "collapsed": false
   },
   "outputs": [
    {
     "data": {
      "text/html": [
       "<div>\n",
       "<table border=\"1\" class=\"dataframe\">\n",
       "  <thead>\n",
       "    <tr style=\"text-align: right;\">\n",
       "      <th></th>\n",
       "      <th>#</th>\n",
       "      <th>Name</th>\n",
       "      <th>Type</th>\n",
       "      <th>Total</th>\n",
       "      <th>HP</th>\n",
       "      <th>Attack</th>\n",
       "      <th>Defense</th>\n",
       "      <th>Sp. Atk</th>\n",
       "      <th>Sp. Def</th>\n",
       "      <th>Speed</th>\n",
       "    </tr>\n",
       "  </thead>\n",
       "  <tbody>\n",
       "    <tr>\n",
       "      <th>0</th>\n",
       "      <td>001</td>\n",
       "      <td>Bulbasaur</td>\n",
       "      <td>GrassPoison</td>\n",
       "      <td>318</td>\n",
       "      <td>45</td>\n",
       "      <td>49</td>\n",
       "      <td>49</td>\n",
       "      <td>65</td>\n",
       "      <td>65</td>\n",
       "      <td>45</td>\n",
       "    </tr>\n",
       "    <tr>\n",
       "      <th>1</th>\n",
       "      <td>002</td>\n",
       "      <td>Ivysaur</td>\n",
       "      <td>GrassPoison</td>\n",
       "      <td>405</td>\n",
       "      <td>60</td>\n",
       "      <td>62</td>\n",
       "      <td>63</td>\n",
       "      <td>80</td>\n",
       "      <td>80</td>\n",
       "      <td>60</td>\n",
       "    </tr>\n",
       "    <tr>\n",
       "      <th>2</th>\n",
       "      <td>003</td>\n",
       "      <td>Venusaur</td>\n",
       "      <td>GrassPoison</td>\n",
       "      <td>525</td>\n",
       "      <td>80</td>\n",
       "      <td>82</td>\n",
       "      <td>83</td>\n",
       "      <td>100</td>\n",
       "      <td>100</td>\n",
       "      <td>80</td>\n",
       "    </tr>\n",
       "    <tr>\n",
       "      <th>3</th>\n",
       "      <td>003</td>\n",
       "      <td>VenusaurMega Venusaur</td>\n",
       "      <td>GrassPoison</td>\n",
       "      <td>625</td>\n",
       "      <td>80</td>\n",
       "      <td>100</td>\n",
       "      <td>123</td>\n",
       "      <td>122</td>\n",
       "      <td>120</td>\n",
       "      <td>80</td>\n",
       "    </tr>\n",
       "    <tr>\n",
       "      <th>4</th>\n",
       "      <td>004</td>\n",
       "      <td>Charmander</td>\n",
       "      <td>Fire</td>\n",
       "      <td>309</td>\n",
       "      <td>39</td>\n",
       "      <td>52</td>\n",
       "      <td>43</td>\n",
       "      <td>60</td>\n",
       "      <td>50</td>\n",
       "      <td>65</td>\n",
       "    </tr>\n",
       "  </tbody>\n",
       "</table>\n",
       "</div>"
      ],
      "text/plain": [
       "      #                   Name         Type Total  HP Attack Defense Sp. Atk  \\\n",
       "0   001              Bulbasaur  GrassPoison   318  45     49      49      65   \n",
       "1   002                Ivysaur  GrassPoison   405  60     62      63      80   \n",
       "2   003               Venusaur  GrassPoison   525  80     82      83     100   \n",
       "3   003  VenusaurMega Venusaur  GrassPoison   625  80    100     123     122   \n",
       "4   004             Charmander         Fire   309  39     52      43      60   \n",
       "\n",
       "  Sp. Def Speed  \n",
       "0      65    45  \n",
       "1      80    60  \n",
       "2     100    80  \n",
       "3     120    80  \n",
       "4      50    65  "
      ]
     },
     "execution_count": 15,
     "metadata": {},
     "output_type": "execute_result"
    }
   ],
   "source": [
    "df = pd.DataFrame(stacked_values, columns = columns, index = indexes)\n",
    "df.head()"
   ]
  },
  {
   "cell_type": "markdown",
   "metadata": {},
   "source": [
    "# Data Cleaning\n",
    "\n",
    "Time to clean the data we just scraped. For example, as you can see in the 4th row, the Name of the pokemon is VenusaurMega Venusaur. Similarly, in all the rows which have dual type pokemon have the type stored as Type1Type2.\n",
    "\n",
    "We do not want that. Hence, we clean it!"
   ]
  },
  {
   "cell_type": "code",
   "execution_count": 16,
   "metadata": {
    "collapsed": false
   },
   "outputs": [],
   "source": [
    "# Replaces Word1Word2 Word3 with Word1 ( Word2 Word3 )\n",
    "def clean_name(name):\n",
    "    # name = 'VenusaurMega Venusaur'\n",
    "    letters = [x for x in name]\n",
    "    for i in range(1, len(letters)):\n",
    "        if letters[i].isupper():\n",
    "            letters[i] = ' ' + letters[i]\n",
    "    fin_letters = ''.join(letters).split(' ')\n",
    "    if len(fin_letters)>1:\n",
    "        fin_letters.insert(1, '(')\n",
    "        fin_letters.append(')')\n",
    "    fin_name = ' '.join(fin_letters)\n",
    "    return fin_name\n",
    "\n",
    "# Replaces Type1Type2.. with Type1 Type2 ..\n",
    "def clean_types(types):\n",
    "    letters = [x for x in types]\n",
    "    for i in range(1, len(types)):\n",
    "        if letters[i].isupper():\n",
    "            letters[i] = ' ' + letters[i]\n",
    "    fin_type = ''.join(letters).split(' ')\n",
    "    return fin_type\n",
    "\n",
    "\n",
    "    "
   ]
  },
  {
   "cell_type": "code",
   "execution_count": 17,
   "metadata": {
    "collapsed": false
   },
   "outputs": [
    {
     "data": {
      "text/html": [
       "<div>\n",
       "<table border=\"1\" class=\"dataframe\">\n",
       "  <thead>\n",
       "    <tr style=\"text-align: right;\">\n",
       "      <th></th>\n",
       "      <th>#</th>\n",
       "      <th>Name</th>\n",
       "      <th>Type</th>\n",
       "      <th>Total</th>\n",
       "      <th>HP</th>\n",
       "      <th>Attack</th>\n",
       "      <th>Defense</th>\n",
       "      <th>Sp. Atk</th>\n",
       "      <th>Sp. Def</th>\n",
       "      <th>Speed</th>\n",
       "    </tr>\n",
       "  </thead>\n",
       "  <tbody>\n",
       "    <tr>\n",
       "      <th>0</th>\n",
       "      <td>001</td>\n",
       "      <td>Bulbasaur</td>\n",
       "      <td>[Grass, Poison]</td>\n",
       "      <td>318</td>\n",
       "      <td>45</td>\n",
       "      <td>49</td>\n",
       "      <td>49</td>\n",
       "      <td>65</td>\n",
       "      <td>65</td>\n",
       "      <td>45</td>\n",
       "    </tr>\n",
       "    <tr>\n",
       "      <th>1</th>\n",
       "      <td>002</td>\n",
       "      <td>Ivysaur</td>\n",
       "      <td>[Grass, Poison]</td>\n",
       "      <td>405</td>\n",
       "      <td>60</td>\n",
       "      <td>62</td>\n",
       "      <td>63</td>\n",
       "      <td>80</td>\n",
       "      <td>80</td>\n",
       "      <td>60</td>\n",
       "    </tr>\n",
       "    <tr>\n",
       "      <th>2</th>\n",
       "      <td>003</td>\n",
       "      <td>Venusaur</td>\n",
       "      <td>[Grass, Poison]</td>\n",
       "      <td>525</td>\n",
       "      <td>80</td>\n",
       "      <td>82</td>\n",
       "      <td>83</td>\n",
       "      <td>100</td>\n",
       "      <td>100</td>\n",
       "      <td>80</td>\n",
       "    </tr>\n",
       "    <tr>\n",
       "      <th>3</th>\n",
       "      <td>003</td>\n",
       "      <td>Venusaur ( Mega  Venusaur )</td>\n",
       "      <td>[Grass, Poison]</td>\n",
       "      <td>625</td>\n",
       "      <td>80</td>\n",
       "      <td>100</td>\n",
       "      <td>123</td>\n",
       "      <td>122</td>\n",
       "      <td>120</td>\n",
       "      <td>80</td>\n",
       "    </tr>\n",
       "    <tr>\n",
       "      <th>4</th>\n",
       "      <td>004</td>\n",
       "      <td>Charmander</td>\n",
       "      <td>[Fire]</td>\n",
       "      <td>309</td>\n",
       "      <td>39</td>\n",
       "      <td>52</td>\n",
       "      <td>43</td>\n",
       "      <td>60</td>\n",
       "      <td>50</td>\n",
       "      <td>65</td>\n",
       "    </tr>\n",
       "  </tbody>\n",
       "</table>\n",
       "</div>"
      ],
      "text/plain": [
       "      #                         Name             Type Total  HP Attack  \\\n",
       "0   001                    Bulbasaur  [Grass, Poison]   318  45     49   \n",
       "1   002                      Ivysaur  [Grass, Poison]   405  60     62   \n",
       "2   003                     Venusaur  [Grass, Poison]   525  80     82   \n",
       "3   003  Venusaur ( Mega  Venusaur )  [Grass, Poison]   625  80    100   \n",
       "4   004                   Charmander           [Fire]   309  39     52   \n",
       "\n",
       "  Defense Sp. Atk Sp. Def Speed  \n",
       "0      49      65      65    45  \n",
       "1      63      80      80    60  \n",
       "2      83     100     100    80  \n",
       "3     123     122     120    80  \n",
       "4      43      60      50    65  "
      ]
     },
     "execution_count": 17,
     "metadata": {},
     "output_type": "execute_result"
    }
   ],
   "source": [
    "df['Name'] = df['Name'].apply(clean_name)\n",
    "df['Type'] = df['Type'].apply(clean_types)\n",
    "df.head()\n",
    "\n",
    "# clean_name('VenusaurMega Venusaur')"
   ]
  },
  {
   "cell_type": "code",
   "execution_count": 18,
   "metadata": {
    "collapsed": false
   },
   "outputs": [],
   "source": [
    "df.to_json('PokemonData.json')"
   ]
  },
  {
   "cell_type": "code",
   "execution_count": 19,
   "metadata": {
    "collapsed": false
   },
   "outputs": [],
   "source": [
    "df = pd.read_json('PokemonData.json')\n",
    "df=df.set_index(['#'])\n",
    "# df"
   ]
  },
  {
   "cell_type": "markdown",
   "metadata": {},
   "source": [
    "# Analysis\n",
    "\n",
    "Time to analyse the data we just scraped and structured!"
   ]
  },
  {
   "cell_type": "code",
   "execution_count": 20,
   "metadata": {
    "collapsed": false
   },
   "outputs": [],
   "source": [
    "def max_stats(df, columns):\n",
    "    max_message = ''\n",
    "    for col in columns:\n",
    "        stat = df[col].max()\n",
    "        name = df[df[col] == df[col].max()]['Name'].values[0]\n",
    "        max_message += name+' has the greatest '+col+' of '+str(stat)+'.\\n'\n",
    "    return max_message\n",
    "\n",
    "def min_stats(df, col_list):\n",
    "    '''Get Pokemon lowest value of the column in the Data Frame'''\n",
    "    message = ''\n",
    "    for col in col_list:\n",
    "        stat = df[col].min()\n",
    "        name = df[df[col]==df[col].min()]['Name'].values[0]\n",
    "        message += name+' has the worst '+col+' of '+str(stat)+'.\\n'\n",
    "    return message\n"
   ]
  },
  {
   "cell_type": "code",
   "execution_count": 21,
   "metadata": {
    "collapsed": false
   },
   "outputs": [
    {
     "name": "stdout",
     "output_type": "stream",
     "text": [
      "Mewtwo ( Mega  Mewtwo  X ) has the greatest Attack of 190.\n",
      "Steelix ( Mega  Steelix ) has the greatest Defense of 230.\n",
      "Blissey has the greatest HP of 255.\n",
      "Mewtwo ( Mega  Mewtwo  Y ) has the greatest Sp. Atk of 194.\n",
      "Shuckle has the greatest Sp. Def of 230.\n",
      "Deoxys ( Speed  Forme ) has the greatest Speed of 180.\n",
      "Mewtwo ( Mega  Mewtwo  X ) has the greatest Total of 780.\n",
      "\n",
      "Chansey has the worst Attack of 5.\n",
      "Chansey has the worst Defense of 5.\n",
      "Shedinja has the worst HP of 1.\n",
      "Shuckle has the worst Sp. Atk of 10.\n",
      "Caterpie has the worst Sp. Def of 20.\n",
      "Shuckle has the worst Speed of 5.\n",
      "Sunkern has the worst Total of 180.\n",
      "\n"
     ]
    }
   ],
   "source": [
    "stats = ['Attack', 'Defense','HP', 'Sp. Atk','Sp. Def','Speed','Total']\n",
    "\n",
    "print max_stats(df, stats)\n",
    "\n",
    "print min_stats(df, stats)"
   ]
  }
 ],
 "metadata": {
  "kernelspec": {
   "display_name": "Python 2",
   "language": "python",
   "name": "python2"
  },
  "language_info": {
   "codemirror_mode": {
    "name": "ipython",
    "version": 2
   },
   "file_extension": ".py",
   "mimetype": "text/x-python",
   "name": "python",
   "nbconvert_exporter": "python",
   "pygments_lexer": "ipython2",
   "version": "2.7.11"
  }
 },
 "nbformat": 4,
 "nbformat_minor": 0
}
